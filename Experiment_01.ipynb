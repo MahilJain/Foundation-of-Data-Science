{
 "cells": [
  {
   "cell_type": "code",
   "execution_count": 6,
   "metadata": {},
   "outputs": [
    {
     "name": "stdout",
     "output_type": "stream",
     "text": [
      "Shape: (3, 3)\n",
      "Datatype: int64\n",
      "Size: 9\n",
      "Number of dimensions: 2\n"
     ]
    }
   ],
   "source": [
    "import numpy as np\n",
    "\n",
    "my_array=np.array([[1,2,3],[4,5,6],[7,8,9]])\n",
    "\n",
    "print(\"Shape:\",my_array.shape)\n",
    "print(\"Datatype:\",my_array.dtype)\n",
    "print(\"Size:\",my_array.size)\n",
    "print(\"Number of dimensions:\",my_array.ndim)"
   ]
  }
 ],
 "metadata": {
  "kernelspec": {
   "display_name": ".venv",
   "language": "python",
   "name": "python3"
  },
  "language_info": {
   "codemirror_mode": {
    "name": "ipython",
    "version": 3
   },
   "file_extension": ".py",
   "mimetype": "text/x-python",
   "name": "python",
   "nbconvert_exporter": "python",
   "pygments_lexer": "ipython3",
   "version": "3.12.1"
  }
 },
 "nbformat": 4,
 "nbformat_minor": 2
}
