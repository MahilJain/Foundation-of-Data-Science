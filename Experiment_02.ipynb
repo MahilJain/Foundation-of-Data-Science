{
 "cells": [
  {
   "cell_type": "code",
   "execution_count": null,
   "metadata": {},
   "outputs": [
    {
     "name": "stdout",
     "output_type": "stream",
     "text": [
      "\n",
      " slicing the first two rows & columns:\n",
      "[[1 2]\n",
      " [4 5]]\n",
      "\n",
      " slicing the last row:\n",
      "[[7 8 9]]\n",
      "\n",
      " slicing the second column:\n",
      "[2 5 8]\n",
      "\n",
      " slicing with a step:\n",
      "[[1 3]\n",
      " [7 9]]\n"
     ]
    }
   ],
   "source": [
    "#EXPERIMENT-2: Perform Different Array Slicing Methods\n",
    "\n",
    "import numpy as np\n",
    "my_array=np.array([[1,2,3],[4,5,6],[7,8,9]])\n",
    "print(\"\\n slicing the first two rows & columns:\")\n",
    "print(my_array[:2,:2])\n",
    "print(\"\\n slicing the last row:\")\n",
    "print(my_array[2:])\n",
    "print(\"\\n slicing the second column:\")\n",
    "print(my_array[:,1])\n",
    "print(\"\\n slicing with a step:\")\n",
    "print(my_array[::2,::2])"
   ]
  }
 ],
 "metadata": {
  "kernelspec": {
   "display_name": ".venv",
   "language": "python",
   "name": "python3"
  },
  "language_info": {
   "codemirror_mode": {
    "name": "ipython",
    "version": 3
   },
   "file_extension": ".py",
   "mimetype": "text/x-python",
   "name": "python",
   "nbconvert_exporter": "python",
   "pygments_lexer": "ipython3",
   "version": "3.12.1"
  }
 },
 "nbformat": 4,
 "nbformat_minor": 2
}
