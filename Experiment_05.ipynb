{
 "cells": [
  {
   "cell_type": "code",
   "execution_count": null,
   "metadata": {},
   "outputs": [
    {
     "name": "stdout",
     "output_type": "stream",
     "text": [
      "Range of data: 12\n",
      "Variance of data: 14.776859504132233\n",
      "Standard Deviation of data: 3.844068093066541\n"
     ]
    }
   ],
   "source": [
    "#EXPERIMENT-5:Develop a Program for Variability (Range, Variance, Standard Deviation)\n",
    "\n",
    "import numpy as np\n",
    "data = [10, 13, 16, 12, 15, 14, 10, 18, 20, 19, 22]\n",
    "arr = np.array(data)\n",
    "d_range = np.max(arr) - np.min(arr)\n",
    "print(\"Range of data:\", d_range)\n",
    "Variance = np.var(arr)\n",
    "print(\"Variance of data:\", Variance)\n",
    "std_dev = np.std(arr)\n",
    "print(\"Standard Deviation of data:\", std_dev)"
   ]
  }
 ],
 "metadata": {
  "kernelspec": {
   "display_name": ".venv",
   "language": "python",
   "name": "python3"
  },
  "language_info": {
   "codemirror_mode": {
    "name": "ipython",
    "version": 3
   },
   "file_extension": ".py",
   "mimetype": "text/x-python",
   "name": "python",
   "nbconvert_exporter": "python",
   "pygments_lexer": "ipython3",
   "version": "3.12.1"
  }
 },
 "nbformat": 4,
 "nbformat_minor": 2
}
