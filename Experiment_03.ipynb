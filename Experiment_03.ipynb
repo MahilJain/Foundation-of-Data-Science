{
 "cells": [
  {
   "cell_type": "code",
   "execution_count": null,
   "metadata": {},
   "outputs": [
    {
     "name": "stdout",
     "output_type": "stream",
     "text": [
      "      Name  Age     City     Fee\n",
      "0     Anuj   25    Delhi   35000\n",
      "1   Ashvin   24   Bombay   45000\n",
      "2    Arjun   25    Delhi   65000\n",
      "3   Aditya   23   Indore   55000\n",
      "4  Manthan   25   Bhopal   80000\n",
      "5   Mayank   24  Chennai   70000\n",
      "6  Vyomesh   26   Bhopal  100000\n",
      "Select column by index:'City','Age','Salary'\n",
      "      Name  Age    City     Fee\n",
      "4  Manthan   25  Bhopal   80000\n",
      "6  Vyomesh   26  Bhopal  100000\n",
      "\n",
      " Changing DF index to 'City' with set_index() method\n",
      "            Name  Age     Fee\n",
      "City                         \n",
      "Delhi       Anuj   25   35000\n",
      "Bombay    Ashvin   24   45000\n",
      "Delhi      Arjun   25   65000\n",
      "Indore    Aditya   23   55000\n",
      "Bhopal   Manthan   25   80000\n",
      "Chennai   Mayank   24   70000\n",
      "Bhopal   Vyomesh   26  100000\n",
      "\n",
      " Selecting rows using 'loc' method where index = Bhopal,Bombay\n",
      "           Name  Age     Fee\n",
      "City                        \n",
      "Bhopal  Manthan   25   80000\n",
      "Bhopal  Vyomesh   26  100000\n",
      "Bombay   Ashvin   24   45000\n"
     ]
    }
   ],
   "source": [
    "#EXPERIMENT-3: Create and Use DataFrames with Pandas\n",
    "\n",
    "import pandas as pd\n",
    "\n",
    "students = [\n",
    "    (\"Anuj\", 25, \"Delhi\", 35000),\n",
    "    (\"Ashvin\", 24, \"Bombay\", 45000),\n",
    "    (\"Arjun\", 25, \"Delhi\", 65000),\n",
    "    (\"Aditya\", 23, \"Indore\", 55000),\n",
    "    (\"Manthan\", 25, \"Bhopal\", 80000),\n",
    "    (\"Mayank\", 24, \"Chennai\", 70000),\n",
    "    (\"Vyomesh\", 26, \"Bhopal\", 100000)\n",
    "]\n",
    "\n",
    "df = pd.DataFrame(students, columns=['Name', 'Age', 'City', 'Fee'])\n",
    "\n",
    "print(df)\n",
    "\n",
    "print(\"Select column by index:'City','Age','Salary'\")\n",
    "result1=df[['City','Age','Fee']]\n",
    "\n",
    "city=df[df[\"City\"]=='Bhopal']\n",
    "print(city)\n",
    "\n",
    "print(\"\\n Changing DF index to 'City' with set_index() method\")\n",
    "\n",
    "df.set_index(\"City\",inplace=True)\n",
    "print(df)\n",
    "\n",
    "print(\"\\n Selecting rows using 'loc' method where index = Bhopal,Bombay\")\n",
    "result2 = df.loc[['Bhopal','Bombay']]\n",
    "print(result2)"
   ]
  }
 ],
 "metadata": {
  "kernelspec": {
   "display_name": ".venv",
   "language": "python",
   "name": "python3"
  },
  "language_info": {
   "codemirror_mode": {
    "name": "ipython",
    "version": 3
   },
   "file_extension": ".py",
   "mimetype": "text/x-python",
   "name": "python",
   "nbconvert_exporter": "python",
   "pygments_lexer": "ipython3",
   "version": "3.12.1"
  }
 },
 "nbformat": 4,
 "nbformat_minor": 2
}
