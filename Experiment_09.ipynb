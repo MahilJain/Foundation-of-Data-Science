{
 "cells": [
  {
   "cell_type": "code",
   "execution_count": 3,
   "metadata": {},
   "outputs": [
    {
     "name": "stdout",
     "output_type": "stream",
     "text": [
      "Dataset X: [88 78 64 92 57 70 88 68 72 60]\n",
      "Dataset Y: [55.94518555 56.03598288 49.96289875 64.35407667 43.14915906 51.70241749\n",
      " 66.11110913 48.86103543 51.34091295 44.41262249]\n",
      "Correlation Coefficient between X and Y: 0.9391942831001509\n"
     ]
    }
   ],
   "source": [
    "# EXPERIMENT-9: Develop a Program for Correlation Coefficient\n",
    "\n",
    "import numpy as np\n",
    "\n",
    "# Generate synthetic datasets\n",
    "np.random.seed(42)  # For reproducibility\n",
    "x = np.random.randint(50, 100, 10)  # Dataset 1: random integers\n",
    "y = x * 0.75 + np.random.randn(10) * 5  # Dataset 2: scaled x with noise\n",
    "\n",
    "# Compute the correlation coefficient using numpy\n",
    "correlation_matrix = np.corrcoef(x, y)  # Returns a matrix\n",
    "correlation_coefficient = correlation_matrix[0, 1]  # Extract the relevant value\n",
    "\n",
    "# Display datasets and the correlation coefficient\n",
    "print(\"Dataset X:\", x)\n",
    "print(\"Dataset Y:\", y)\n",
    "print(\"Correlation Coefficient between X and Y:\", correlation_coefficient)"
   ]
  }
 ],
 "metadata": {
  "kernelspec": {
   "display_name": ".venv",
   "language": "python",
   "name": "python3"
  },
  "language_info": {
   "codemirror_mode": {
    "name": "ipython",
    "version": 3
   },
   "file_extension": ".py",
   "mimetype": "text/x-python",
   "name": "python",
   "nbconvert_exporter": "python",
   "pygments_lexer": "ipython3",
   "version": "3.12.1"
  }
 },
 "nbformat": 4,
 "nbformat_minor": 2
}
