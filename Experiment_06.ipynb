{
 "cells": [
  {
   "cell_type": "code",
   "execution_count": 1,
   "metadata": {},
   "outputs": [
    {
     "name": "stdout",
     "output_type": "stream",
     "text": [
      "Average using NumPy: 30.0\n",
      "Average using Pandas: 30.0\n"
     ]
    }
   ],
   "source": [
    "import numpy as np\n",
    "import pandas as pd\n",
    "\n",
    "# Using NumPy to calculate the average\n",
    "def average_with_numpy(data):\n",
    "    return np.mean(data)\n",
    "\n",
    "# Using Pandas to calculate the average\n",
    "def average_with_pandas(data):\n",
    "    # Converting data into a Pandas Series\n",
    "    series = pd.Series(data)\n",
    "    return series.mean()\n",
    "\n",
    "# Example dataset\n",
    "data = [10, 20, 30, 40, 50]\n",
    "\n",
    "# Calculating average using NumPy\n",
    "numpy_average = average_with_numpy(data)\n",
    "print(f\"Average using NumPy: {numpy_average}\")\n",
    "\n",
    "# Calculating average using Pandas\n",
    "pandas_average = average_with_pandas(data)\n",
    "print(f\"Average using Pandas: {pandas_average}\")\n"
   ]
  }
 ],
 "metadata": {
  "kernelspec": {
   "display_name": ".venv",
   "language": "python",
   "name": "python3"
  },
  "language_info": {
   "codemirror_mode": {
    "name": "ipython",
    "version": 3
   },
   "file_extension": ".py",
   "mimetype": "text/x-python",
   "name": "python",
   "nbconvert_exporter": "python",
   "pygments_lexer": "ipython3",
   "version": "3.12.1"
  }
 },
 "nbformat": 4,
 "nbformat_minor": 2
}
